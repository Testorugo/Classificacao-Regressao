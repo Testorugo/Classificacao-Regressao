{
  "nbformat": 4,
  "nbformat_minor": 0,
  "metadata": {
    "colab": {
      "provenance": [],
      "authorship_tag": "ABX9TyNLL9+mLdaAro1Yq87rYxB4",
      "include_colab_link": true
    },
    "kernelspec": {
      "name": "python3",
      "display_name": "Python 3"
    },
    "language_info": {
      "name": "python"
    }
  },
  "cells": [
    {
      "cell_type": "markdown",
      "metadata": {
        "id": "view-in-github",
        "colab_type": "text"
      },
      "source": [
        "<a href=\"https://colab.research.google.com/github/Testorugo/Classificacao-Regressao/blob/main/Classifica%C3%A7%C3%A3o.ipynb\" target=\"_parent\"><img src=\"https://colab.research.google.com/assets/colab-badge.svg\" alt=\"Open In Colab\"/></a>"
      ]
    },
    {
      "cell_type": "code",
      "execution_count": null,
      "metadata": {
        "colab": {
          "base_uri": "https://localhost:8080/"
        },
        "id": "6sHKDvxhmhJO",
        "outputId": "cba876b2-f10d-4078-f319-4cf3899779a9"
      },
      "outputs": [
        {
          "output_type": "stream",
          "name": "stdout",
          "text": [
            "Previsão para o novo e-mail: Não Spam\n"
          ]
        }
      ],
      "source": [
        "#Naive Bayes\n",
        "from sklearn.naive_bayes import GaussianNB\n",
        "\n",
        "# Dados de exemplo\n",
        "X = [[100, 20], [150, 30], [120, 25], [140,28]]\n",
        "y = ['Não Spam', 'Spam', 'Não Spam', 'Spam']\n",
        "\n",
        "# Treinando o modelo\n",
        "model = GaussianNB()\n",
        "model.fit(X, y)\n",
        "\n",
        "# Previsão para um novo e-mail\n",
        "novo_email = [[130,22]]\n",
        "resultado = model.predict(novo_email)\n",
        "print(f\"Previsão para o novo e-mail: {resultado[0]}\")"
      ]
    },
    {
      "cell_type": "code",
      "source": [
        "#Naive Bayes\n",
        "# Passo 1: Importar as bibliotecas necessárias\n",
        "import numpy as np\n",
        "from sklearn.model_selection import train_test_split\n",
        "from sklearn.feature_extraction.text import CountVectorizer\n",
        "from sklearn.naive_bayes import MultinomialNB\n",
        "from sklearn.metrics import accuracy_score\n",
        "\n",
        "# Passo 2: Preparar os dados\n",
        "emails = [\n",
        "    \"Oferta imperdível! Ganhe 50% de desconto em todos os produtos!\",\n",
        "    \"Você ganhou um prêmio de R$ 10.000! Clique aqui para resgatar.\",\n",
        "    \"Confira as novas ofertas da loja. Não perca!\",\n",
        "    \"Reunião de equipe amanhã às 10h. Por favor, confirme sua presença.\",\n",
        "    \"Lembrete: pagamento da fatura do cartão de crédito vence amanhã.\",\n",
        "]\n",
        "\n",
        "labels = [1, 1, 1, 0, 0] # 1 para spam, 0 para não spam\n",
        "\n",
        "# Passo 3: Transformar os dados em uma matriz de contagem de palavras (bag of words)\n",
        "vectorizer = CountVectorizer()\n",
        "X = vectorizer.fit_transform(emails)\n",
        "\n",
        "# Passo 4: Dividir os dados em conjunto de treinamento e conjunto de teste\n",
        "X_train, X_test, y_train, y_test = train_test_split(X, labels, test_size=0.2, random_state=42)\n",
        "\n",
        "# Passo 5: Criar e treinar o modelo\n",
        "model = MultinomialNB() # Criar o modelo Naive Bayes multinomial\n",
        "model.fit(X_train, y_train) # Treinar o modelo com os dados de treinamento\n",
        "\n",
        "# Passo 6: Fazer previsões\n",
        "predictions = model.predict(X_test) # Fazer previsões usando o conjunto de teste\n",
        "\n",
        "# Passo 7: Avaliar a precisão do modelo\n",
        "accuracy = accuracy_score(y_test, predictions) # Calcular a precisão do modelo\n",
        "print(\"Accuracy:\", accuracy)"
      ],
      "metadata": {
        "colab": {
          "base_uri": "https://localhost:8080/"
        },
        "id": "ksAuhYIzng6m",
        "outputId": "4d25d8a4-31d1-4e02-95fc-258bf64e91ba"
      },
      "execution_count": null,
      "outputs": [
        {
          "output_type": "stream",
          "name": "stdout",
          "text": [
            "Accuracy: 1.0\n"
          ]
        }
      ]
    },
    {
      "cell_type": "code",
      "source": [
        "#K-Nearest Neighbors (KNN)\n",
        "# Passo 1: Importar as bibliotecas necessárias\n",
        "import numpy as np\n",
        "from sklearn.model_selection import train_test_split\n",
        "from sklearn.feature_extraction.text import CountVectorizer\n",
        "from sklearn.neighbors import KNeighborsClassifier\n",
        "from sklearn.metrics import accuracy_score\n",
        "\n",
        "# Passo 2: Preparar os dados\n",
        "# Suponha que temos um conjunto de dados com e-mails e seus rótulos (spam ou não spam)\n",
        "# Aqui está um exemplo simples de um conjunto de dados fictício:\n",
        "emails = [\n",
        "    \"Oferta imperdível! Ganhe 50% de desconto em todos os produtos!\",\n",
        "    \"Você ganhou um prêmio de R$ 10.000! Clique aqui para resgatar.\",\n",
        "    \"Confira as novas ofertas da loja. Não perca!\",\n",
        "    \"Reunião de equipe amanhã às 10h. Por favor, confirme sua presença.\",\n",
        "    \"Lembrete: pagamento da fatura do cartão de crédito vence amanhã.\",\n",
        "]\n",
        "\n",
        "labels = [1, 1, 1, 0, 0] # 1 para spam, 0 para não spam\n",
        "\n",
        "# Passo 3: Transformar os dados em uma matriz de contagem de palavras (bag of words)\n",
        "vectorizer = CountVectorizer()\n",
        "X = vectorizer.fit_transform(emails)\n",
        "\n",
        "# Passo 4: Dividir os dados em conjunto de treinamento e conjunto de teste\n",
        "X_train, X_test, y_train, y_test = train_test_split(X, labels, test_size=0.2, random_state=42)\n",
        "\n",
        "# Passo 5: Criar e treinar o modelo KNN\n",
        "model = KNeighborsClassifier(n_neighbors=3) # Criar o modelo KNN com 3 vizinhos\n",
        "model.fit(X_train, y_train) # Treinar o modelo com os dados de treinamento\n",
        "\n",
        "# Passo 6: Fazer previsões\n",
        "predictions = model.predict(X_test) # Fazer previsões usando o conjunto de teste\n",
        "\n",
        "# Passo 7: Avaliar a precisão do modelo\n",
        "accuracy = accuracy_score(y_test, predictions) # Calcular a precisão do modelo\n",
        "print(\"Accuracy:\", accuracy)"
      ],
      "metadata": {
        "colab": {
          "base_uri": "https://localhost:8080/"
        },
        "id": "koirWNDnrK5v",
        "outputId": "4b63bb5d-a4fa-46f7-9512-5348cc7d159d"
      },
      "execution_count": null,
      "outputs": [
        {
          "output_type": "stream",
          "name": "stdout",
          "text": [
            "Accuracy: 1.0\n"
          ]
        }
      ]
    },
    {
      "cell_type": "code",
      "source": [
        "#Máquinas de Vetores de Suporte (SVM)\n",
        "# Passo 1: Importar as bibliotecas necessárias\n",
        "from sklearn.model_selection import train_test_split\n",
        "from sklearn.feature_extraction.text import CountVectorizer\n",
        "from sklearn.svm import SVC\n",
        "from sklearn.metrics import accuracy_score\n",
        "\n",
        "# Passo 2: Preparar os dados\n",
        "# Suponha que temos um conjunto de dados com e-mails e seus rótulos (spam ou não spam)\n",
        "# Aqui está um exemplo simples de um conjunto de dados fictício:\n",
        "emails = [\n",
        "    \"Oferta imperdível! Ganhe 50% de desconto em todos os produtos!\",\n",
        "    \"Você ganhou um prêmio de R$ 10.000! Clique aqui para resgatar.\",\n",
        "    \"Confira as novas ofertas da loja. Não perca!\",\n",
        "    \"Reunião de equipe amanhã às 10h. Por favor, confirme sua presença.\",\n",
        "    \"Lembrete: pagamento da fatura do cartão de crédito vence amanhã.\",\n",
        "]\n",
        "\n",
        "labels = [1, 1, 1, 0, 0] # 1 para spam, 0 para não spam\n",
        "\n",
        "# Passo 3: Transformar os dados em uma matriz de contagem de palavras (bag of words)\n",
        "vectorizer = CountVectorizer()\n",
        "X = vectorizer.fit_transform(emails)\n",
        "\n",
        "# Passo 4: Dividir os dados em conjunto de treinamento e conjunto de teste\n",
        "X_train, X_test, y_train, y_test = train_test_split(X, labels, test_size=0.2, random_state=42)\n",
        "\n",
        "# Passo 5: Criar e treinar o modelo SVM\n",
        "model = SVC(kernel='linear') # Criar o modelo SVM com kernel linear\n",
        "model.fit(X_train, y_train) # Treinar o modelo com os dados de treinamento\n",
        "\n",
        "\n",
        "# Passo 6: Fazer previsões\n",
        "predictions = model.predict(X_test) # Fazer previsões usando o conjunto de teste\n",
        "\n",
        "# Passo 7: Avaliar a precisão do modelo\n",
        "accuracy = accuracy_score(y_test, predictions) # Calcular a precisão do modelo\n",
        "print(\"Accuracy:\", accuracy)\n"
      ],
      "metadata": {
        "colab": {
          "base_uri": "https://localhost:8080/"
        },
        "id": "o-maKVt1s99X",
        "outputId": "89b8c788-d40f-4bb9-d20f-e20266388ec6"
      },
      "execution_count": null,
      "outputs": [
        {
          "output_type": "stream",
          "name": "stdout",
          "text": [
            "Accuracy: 1.0\n"
          ]
        }
      ]
    },
    {
      "cell_type": "code",
      "source": [
        "#Árvores de Decisão\n",
        "# Passo 1: Importar as bibliotecas necessárias\n",
        "from sklearn.model_selection import train_test_split\n",
        "from sklearn.feature_extraction.text import CountVectorizer\n",
        "from sklearn.tree import DecisionTreeClassifier\n",
        "from sklearn.metrics import accuracy_score\n",
        "\n",
        "# Passo 2: Preparar os dados\n",
        "# Suponha que temos um conjunto de dados com e-mails e seus rótulos (spam ou não spam)\n",
        "# Aqui está um exemplo simples de um conjunto de dados fictício:\n",
        "emails = [\n",
        "    \"Oferta imperdível! Ganhe 50% de desconto em todos os produtos!\",\n",
        "    \"Você ganhou um prêmio de R$ 10.000! Clique aqui para resgatar.\",\n",
        "    \"Confira as novas ofertas da loja. Não perca!\",\n",
        "    \"Reunião de equipe amanhã às 10h. Por favor, confirme sua presença.\",\n",
        "    \"Lembrete: pagamento da fatura do cartão de crédito vence amanhã.\",\n",
        "]\n",
        "\n",
        "labels = [1, 1, 1, 0, 0] # 1 para spam, 0 para não spam\n",
        "\n",
        "# Passo 3: Transformar os dados em uma matriz de contagem de palavras (bag of words)\n",
        "vectorizer = CountVectorizer()\n",
        "X = vectorizer.fit_transform(emails)\n",
        "\n",
        "# Passo 4: Dividir os dados em conjunto de treinamento e conjunto de teste\n",
        "X_train, X_test, y_train, y_test = train_test_split(X, labels, test_size=0.2, random_state=42)\n",
        "\n",
        "# Passo 5: Criar e treinar o modelo de Árvore de Decisão\n",
        "model = DecisionTreeClassifier() # Criar o modelo de Árvore de Decisão\n",
        "model.fit(X_train, y_train) # Treinar o modelo com os dados de treinamento\n",
        "\n",
        "# Passo 6: Fazer previsões\n",
        "predictions = model.predict(X_test) # Fazer previsões usando o conjunto de teste\n",
        "\n",
        "# Passo 7: Avaliar a precisão do modelo\n",
        "accuracy = accuracy_score(y_test, predictions) # Calcular a precisão do modelo\n",
        "print(\"Accuracy:\", accuracy)"
      ],
      "metadata": {
        "id": "X0Pb8RSYt5vW",
        "colab": {
          "base_uri": "https://localhost:8080/"
        },
        "outputId": "81b9b230-12c8-4f7d-eadd-5c78569638a6"
      },
      "execution_count": null,
      "outputs": [
        {
          "output_type": "stream",
          "name": "stdout",
          "text": [
            "Accuracy: 1.0\n"
          ]
        }
      ]
    },
    {
      "cell_type": "code",
      "source": [],
      "metadata": {
        "id": "0WxzMgXtGWfc"
      },
      "execution_count": null,
      "outputs": []
    }
  ]
}